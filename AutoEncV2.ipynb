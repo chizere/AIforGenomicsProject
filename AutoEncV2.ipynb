{
  "nbformat": 4,
  "nbformat_minor": 0,
  "metadata": {
    "colab": {
      "name": "AutoEncV2.ipynb",
      "provenance": [],
      "collapsed_sections": []
    },
    "kernelspec": {
      "name": "python3",
      "display_name": "Python 3"
    },
    "accelerator": "GPU"
  },
  "cells": [
    {
      "cell_type": "code",
      "metadata": {
        "colab": {
          "base_uri": "https://localhost:8080/"
        },
        "id": "tDBDqBxGNTaK",
        "outputId": "1545f7bd-5b25-417f-cf57-8cb3c2f61b92"
      },
      "source": [
        "colab = True\r\n",
        "# In case in Colab activate this cell by passing the corect path to the images\r\n",
        "if colab==True: \r\n",
        "    from google.colab import drive\r\n",
        "    drive.mount('/content/drive')"
      ],
      "execution_count": 1,
      "outputs": [
        {
          "output_type": "stream",
          "text": [
            "Mounted at /content/drive\n"
          ],
          "name": "stdout"
        }
      ]
    },
    {
      "cell_type": "code",
      "metadata": {
        "id": "cif8GXK6NaUO"
      },
      "source": [
        "import torch\r\n",
        "import torch.optim as optim\r\n",
        "import torch.nn as nn\r\n",
        "import torch.nn.functional as F\r\n",
        "from torch.utils.data import Dataset, DataLoader\r\n",
        "import pandas as pd\r\n",
        "import numpy as np"
      ],
      "execution_count": 2,
      "outputs": []
    },
    {
      "cell_type": "code",
      "metadata": {
        "id": "m_vbColoNaXV"
      },
      "source": [
        "path_phen = ('/content/drive/MyDrive/projectGenomicsAiMaster/phenotSub.csv')\r\n",
        "path_exp= ('/content/drive/MyDrive/projectGenomicsAiMaster/expreSub.csv')"
      ],
      "execution_count": 3,
      "outputs": []
    },
    {
      "cell_type": "code",
      "metadata": {
        "id": "8Caf_wjRNaZ9"
      },
      "source": [
        "def load_tcga_dataset():\r\n",
        "  expr_df = pd.read_csv(path_exp, sep = \",\", index_col=\"sig_id\")\r\n",
        "\r\n",
        "  # Load the list of gene names separately\r\n",
        "  #gene_list = list(np.load(gene_list_file))\r\n",
        "  #expr_df.columns = gene_list\r\n",
        "\r\n",
        "  phenotype_df = pd.read_csv(path_phen, sep = \",\", index_col=\"sig_id\")\r\n",
        "\r\n",
        "  return expr_df, phenotype_df"
      ],
      "execution_count": 4,
      "outputs": []
    },
    {
      "cell_type": "code",
      "metadata": {
        "id": "x5S9An4oNacm"
      },
      "source": [
        "expr_df, phenotype_df = load_tcga_dataset()"
      ],
      "execution_count": 5,
      "outputs": []
    },
    {
      "cell_type": "code",
      "metadata": {
        "colab": {
          "base_uri": "https://localhost:8080/"
        },
        "id": "qNtKtTwYNafS",
        "outputId": "691f355e-9890-4ca1-a1b3-3f4007d6a2ca"
      },
      "source": [
        "print(expr_df.shape,phenotype_df.shape)"
      ],
      "execution_count": 6,
      "outputs": [
        {
          "output_type": "stream",
          "text": [
            "(144, 978) (144, 8)\n"
          ],
          "name": "stdout"
        }
      ]
    },
    {
      "cell_type": "code",
      "metadata": {
        "id": "0Y2kCCDEOCzw"
      },
      "source": [
        "from sklearn.preprocessing import LabelEncoder\r\n",
        "from sklearn.pipeline import Pipeline\r\n",
        "\r\n",
        "class MultiColumnLabelEncoder:\r\n",
        "    def __init__(self,columns = None):\r\n",
        "        self.columns = columns # array of column names to encode\r\n",
        "\r\n",
        "    def fit(self,X,y=None):\r\n",
        "        return self # not relevant here\r\n",
        "\r\n",
        "    def transform(self,X):\r\n",
        "        '''\r\n",
        "        Transforms columns of X specified in self.columns using\r\n",
        "        LabelEncoder(). If no columns specified, transforms all\r\n",
        "        columns in X.\r\n",
        "        '''\r\n",
        "        output = X.copy()\r\n",
        "        if self.columns is not None:\r\n",
        "            for col in self.columns:\r\n",
        "                output[col] = LabelEncoder().fit_transform(output[col])\r\n",
        "        else:\r\n",
        "            for colname,col in output.iteritems():\r\n",
        "                output[colname] = LabelEncoder().fit_transform(col)\r\n",
        "        return output\r\n",
        "\r\n",
        "    def fit_transform(self,X,y=None):\r\n",
        "        return self.fit(X,y).transform(X)"
      ],
      "execution_count": 7,
      "outputs": []
    },
    {
      "cell_type": "code",
      "metadata": {
        "id": "sTQ0mwfpOOjC"
      },
      "source": [
        "class Dataset(Dataset):\r\n",
        "  \"\"\"\r\n",
        "  Dataset for binary classification Tumor/Normal\r\n",
        "  \"\"\"\r\n",
        "  def __init__(self):\r\n",
        "    \r\n",
        "     # Compute categorical embedding\r\n",
        " \r\n",
        "    self.labels = MultiColumnLabelEncoder(columns = ['cell_id']).fit_transform(phenotype_df)\r\n",
        "\r\n",
        "    # Select the required feature\r\n",
        "\r\n",
        "    self.labels = self.labels.loc[:,[ \"cell_id\"]]\r\n",
        "\r\n",
        "    # Get corresponding gene expression profiles\r\n",
        "    self.X = expr_df.loc[self.labels.index]## .index\r\n",
        "\r\n",
        "  def __getitem__(self, index):\r\n",
        "    sample = np.array(self.X.iloc[index], dtype=np.float32)\r\n",
        "    label = np.array(self.labels.iloc[index], dtype=np.float32)\r\n",
        "\r\n",
        "    ##series1=df.iloc[0,:]\r\n",
        "\r\n",
        "\r\n",
        "    return sample, label\r\n",
        "\r\n",
        "  def __len__(self):\r\n",
        "    return len(self.labels)"
      ],
      "execution_count": 8,
      "outputs": []
    },
    {
      "cell_type": "code",
      "metadata": {
        "id": "JhmnhCvdOOmO"
      },
      "source": [
        "dataset= Dataset()"
      ],
      "execution_count": 9,
      "outputs": []
    },
    {
      "cell_type": "code",
      "metadata": {
        "id": "jiJEq_iNOOpC"
      },
      "source": [
        "train_set_size = int(len(dataset) * 0.7)\r\n",
        "test_set_size = len(dataset) - train_set_size"
      ],
      "execution_count": 10,
      "outputs": []
    },
    {
      "cell_type": "code",
      "metadata": {
        "id": "EOeN4Pr_OOsn"
      },
      "source": [
        "train_dataset, test_dataset = torch.utils.data.random_split(dataset, \r\n",
        "                                                            lengths=[train_set_size, test_set_size], \r\n",
        "                                                            generator=torch.Generator().manual_seed(0))"
      ],
      "execution_count": 11,
      "outputs": []
    },
    {
      "cell_type": "code",
      "metadata": {
        "id": "7atnnKWBOpyH"
      },
      "source": [
        "train_loader = torch.utils.data.DataLoader(train_dataset, batch_size=2, shuffle=True, num_workers=2)### 11629/32 = 364\r\n",
        "test_loader = torch.utils.data.DataLoader(test_dataset, batch_size=2, shuffle=True, num_workers=2)### 4985/32 = 156"
      ],
      "execution_count": 12,
      "outputs": []
    },
    {
      "cell_type": "code",
      "metadata": {
        "colab": {
          "base_uri": "https://localhost:8080/"
        },
        "id": "4e2Qw7ABOswJ",
        "outputId": "4d74abe0-f471-48a2-beaf-b77ae5057242"
      },
      "source": [
        "num_examples, num_genes = dataset.X.shape\r\n",
        "print(\"Dataset for tumor/normal classification created with\", num_examples, \r\n",
        "      \"number of samples. Each sample contains the expression levels of\", num_genes, \"genes.\")"
      ],
      "execution_count": 13,
      "outputs": [
        {
          "output_type": "stream",
          "text": [
            "Dataset for tumor/normal classification created with 144 number of samples. Each sample contains the expression levels of 978 genes.\n"
          ],
          "name": "stdout"
        }
      ]
    },
    {
      "cell_type": "code",
      "metadata": {
        "id": "N35lvZOaOtv_"
      },
      "source": [
        "class Autoencoder(nn.Module):\r\n",
        "    def __init__(self, input_dim):\r\n",
        "        super(Autoencoder, self).__init__()\r\n",
        "        self.encoder = nn.Sequential(\r\n",
        "            nn.Linear(input_dim, 500),\r\n",
        "            nn.ReLU(),\r\n",
        "            nn.Linear(500, 250),\r\n",
        "            nn.ReLU(),\r\n",
        "            nn.Linear(250, 10),\r\n",
        "\r\n",
        "            )\r\n",
        "        self.decoder = nn.Sequential(\r\n",
        "            nn.Linear(10, 250),\r\n",
        "            nn.ReLU(),\r\n",
        "            nn.Linear(250, 500),\r\n",
        "            nn.ReLU(),\r\n",
        "            nn.Linear(500, input_dim),\r\n",
        "            #nn.ReLU()\r\n",
        "            )\r\n",
        "\r\n",
        "    def forward(self, x):\r\n",
        "        x = self.encoder(x)\r\n",
        "        x = self.decoder(x)\r\n",
        "        return x"
      ],
      "execution_count": 23,
      "outputs": []
    },
    {
      "cell_type": "code",
      "metadata": {
        "id": "WAQv1ciqOyhv"
      },
      "source": [
        "model = Autoencoder(num_genes)"
      ],
      "execution_count": 24,
      "outputs": []
    },
    {
      "cell_type": "code",
      "metadata": {
        "colab": {
          "base_uri": "https://localhost:8080/"
        },
        "id": "VMQWuGqnQYON",
        "outputId": "b9a103a5-9fae-4c22-e743-73f1beea1954"
      },
      "source": [
        "model"
      ],
      "execution_count": 25,
      "outputs": [
        {
          "output_type": "execute_result",
          "data": {
            "text/plain": [
              "Autoencoder(\n",
              "  (encoder): Sequential(\n",
              "    (0): Linear(in_features=978, out_features=500, bias=True)\n",
              "    (1): ReLU()\n",
              "    (2): Linear(in_features=500, out_features=250, bias=True)\n",
              "    (3): ReLU()\n",
              "    (4): Linear(in_features=250, out_features=10, bias=True)\n",
              "  )\n",
              "  (decoder): Sequential(\n",
              "    (0): Linear(in_features=10, out_features=250, bias=True)\n",
              "    (1): ReLU()\n",
              "    (2): Linear(in_features=250, out_features=500, bias=True)\n",
              "    (3): ReLU()\n",
              "    (4): Linear(in_features=500, out_features=978, bias=True)\n",
              "  )\n",
              ")"
            ]
          },
          "metadata": {
            "tags": []
          },
          "execution_count": 25
        }
      ]
    },
    {
      "cell_type": "code",
      "metadata": {
        "id": "qhTxW-LbOyll"
      },
      "source": [
        "criterion = nn.MSELoss( reduction=\"sum\")"
      ],
      "execution_count": 41,
      "outputs": []
    },
    {
      "cell_type": "code",
      "metadata": {
        "id": "QUZgJqEjOyoc"
      },
      "source": [
        "optimizer = optim.Adam(model.parameters(), lr=0.00005)"
      ],
      "execution_count": 36,
      "outputs": []
    },
    {
      "cell_type": "code",
      "metadata": {
        "colab": {
          "base_uri": "https://localhost:8080/"
        },
        "id": "lNaSM3DNOyq6",
        "outputId": "4e44ae94-b14d-4eb9-c79c-879fe8321578"
      },
      "source": [
        "for epoch in range(5):  # loop over the dataset multiple times\r\n",
        "\r\n",
        "    running_loss = 0.0\r\n",
        "    for i, data in enumerate(train_loader, 0):\r\n",
        "      \r\n",
        "        # get the inputs; data is a list of [inputs, labels]\r\n",
        "        inputs, labels = data\r\n",
        "        # zero the parameter gradients\r\n",
        "        optimizer.zero_grad()\r\n",
        "\r\n",
        "        # forward + backward + optimize\r\n",
        "        outputs = model(inputs)\r\n",
        "        #print(outputs)\r\n",
        "        loss = criterion(outputs[:, 0], inputs[:, 0])\r\n",
        "        loss.backward()\r\n",
        "        optimizer.step()  # Update the parameters of the model\r\n",
        "\r\n",
        "        # print statistics\r\n",
        "        running_loss += loss.item()\r\n",
        "        if i % 50 == 49:    # print every 50 mini-batches\r\n",
        "            print('[%d, %5d] loss: %.3f' %\r\n",
        "                  (epoch + 1, i + 1, running_loss / 50))\r\n",
        "            running_loss = 0.0\r\n",
        "\r\n",
        "print('Finished Training')"
      ],
      "execution_count": 43,
      "outputs": [
        {
          "output_type": "stream",
          "text": [
            "[1,    50] loss: 0.917\n",
            "[2,    50] loss: 0.643\n",
            "[3,    50] loss: 0.379\n",
            "[4,    50] loss: 0.254\n",
            "[5,    50] loss: 0.144\n",
            "Finished Training\n"
          ],
          "name": "stdout"
        }
      ]
    },
    {
      "cell_type": "code",
      "metadata": {
        "id": "Sehs3pBTOytr"
      },
      "source": [
        "trained_model_file = F'/content/drive/MyDrive/projectGenomicsAiMaster/trained_model_AutoenV1.pth'\r\n",
        "torch.save(model.state_dict(), trained_model_file)"
      ],
      "execution_count": 44,
      "outputs": []
    },
    {
      "cell_type": "code",
      "metadata": {
        "id": "CBNamRzHOywV"
      },
      "source": [
        ""
      ],
      "execution_count": null,
      "outputs": []
    }
  ]
}